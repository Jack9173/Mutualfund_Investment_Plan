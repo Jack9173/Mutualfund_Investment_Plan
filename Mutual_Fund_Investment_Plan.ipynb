{
  "nbformat": 4,
  "nbformat_minor": 0,
  "metadata": {
    "colab": {
      "provenance": []
    },
    "kernelspec": {
      "name": "python3",
      "display_name": "Python 3"
    },
    "language_info": {
      "name": "python"
    }
  },
  "cells": [
    {
      "cell_type": "markdown",
      "source": [
        "# **Creating a Mutual Fund Plan with Python**"
      ],
      "metadata": {
        "id": "KfD110ble7tz"
      }
    },
    {
      "cell_type": "markdown",
      "source": [
        "A mutual fund plan is created by selecting the stocks where an investor can benefit in the long term. Here’s the process must be followed to create a mutual fund plan:\n",
        "\n",
        "1. Gather historical stock data, such as closing prices and growth trends over time.\n",
        "\n",
        "2. Calculate key metrics like Return on Investment (ROI) and volatility (risk) to understand how each stock has performed historically.\n",
        "\n",
        "3. Choose stocks that have a high ROI and low volatility to ensure a balance between risk and reward.\n",
        "\n",
        "4. Calculate the future value of monthly investments based on the expected ROI of the selected stocks."
      ],
      "metadata": {
        "id": "xEtrJiUwfBtk"
      }
    },
    {
      "cell_type": "code",
      "source": [
        "import pandas as pd\n",
        "\n",
        "data = pd.read_csv(\"/content/nifty50_closing_prices.csv\")\n",
        "\n",
        "print(data.head())"
      ],
      "metadata": {
        "id": "dFgFbgSQe_Ld"
      },
      "execution_count": null,
      "outputs": []
    },
    {
      "cell_type": "code",
      "source": [
        "#convert the date column into a datetime data type\n",
        "data['Date'] = pd.to_datetime(data['Date'])"
      ],
      "metadata": {
        "id": "TyO89eHJfeii"
      },
      "execution_count": 3,
      "outputs": []
    },
    {
      "cell_type": "code",
      "source": [
        "#look at whether this data has any null values or not\n",
        "print(data.isnull().sum())"
      ],
      "metadata": {
        "id": "ID13uFi3ft3F"
      },
      "execution_count": null,
      "outputs": []
    },
    {
      "cell_type": "markdown",
      "source": [
        "There are 24 null values in the closing prices of HDFC. Let’s it."
      ],
      "metadata": {
        "id": "IBTt1kPZgFPj"
      }
    },
    {
      "cell_type": "code",
      "source": [
        "data.fillna(method='ffill', inplace=True)"
      ],
      "metadata": {
        "colab": {
          "base_uri": "https://localhost:8080/"
        },
        "id": "49RPMuhJf6eh",
        "outputId": "f4005c7d-7f0b-4ee4-a92e-97ef4b7f046d"
      },
      "execution_count": 5,
      "outputs": [
        {
          "output_type": "stream",
          "name": "stderr",
          "text": [
            "/tmp/ipython-input-5-2866031220.py:1: FutureWarning: DataFrame.fillna with 'method' is deprecated and will raise in a future version. Use obj.ffill() or obj.bfill() instead.\n",
            "  data.fillna(method='ffill', inplace=True)\n"
          ]
        }
      ]
    },
    {
      "cell_type": "code",
      "source": [
        "import plotly.graph_objs as go\n",
        "import plotly.express as px\n",
        "\n",
        "fig = go.Figure()\n",
        "\n",
        "for company in data.columns[1:]:\n",
        "    fig.add_trace(go.Scatter(x=data['Date'], y=data[company],\n",
        "                             mode='lines',\n",
        "                             name=company,\n",
        "                             opacity=0.5))\n",
        "\n",
        "fig.update_layout(\n",
        "    title='Stock Price Trends of All Indian Companies',\n",
        "    xaxis_title='Date',\n",
        "    yaxis_title='Closing Price (INR)',\n",
        "    xaxis=dict(tickangle=45),\n",
        "    legend=dict(\n",
        "        x=1.05,\n",
        "        y=1,\n",
        "        traceorder=\"normal\",\n",
        "        font=dict(size=10),\n",
        "        orientation=\"v\"\n",
        "    ),\n",
        "    margin=dict(l=0, r=0, t=30, b=0),\n",
        "    hovermode='x',\n",
        "    template='plotly_white'\n",
        ")\n",
        "\n",
        "fig.show()"
      ],
      "metadata": {
        "id": "nKyucmXdgKId"
      },
      "execution_count": null,
      "outputs": []
    },
    {
      "cell_type": "code",
      "source": [
        "# look at the companies with the highest risks for investing:\n",
        "all_companies = data.columns[1:]\n",
        "\n",
        "volatility_all_companies = data[all_companies].std()\n",
        "\n",
        "volatility_all_companies.sort_values(ascending=False).head(10)"
      ],
      "metadata": {
        "id": "B4zTfngugRUg"
      },
      "execution_count": null,
      "outputs": []
    },
    {
      "cell_type": "code",
      "source": [
        "# look at the companies with the highest growth rate for investing:\n",
        "growth_all_companies = data[all_companies].pct_change() * 100\n",
        "\n",
        "average_growth_all_companies = growth_all_companies.mean()\n",
        "\n",
        "average_growth_all_companies.sort_values(ascending=False).head(10)"
      ],
      "metadata": {
        "id": "UqshvxP7gege"
      },
      "execution_count": null,
      "outputs": []
    },
    {
      "cell_type": "markdown",
      "source": [
        "let’s have a look at the companies with the highest return on investments:"
      ],
      "metadata": {
        "id": "-CG0jG12g2rl"
      }
    },
    {
      "cell_type": "code",
      "source": [
        "initial_prices_all = data[all_companies].iloc[0]\n",
        "final_prices_all = data[all_companies].iloc[-1]\n",
        "\n",
        "roi_all_companies = ((final_prices_all - initial_prices_all) / initial_prices_all) * 100\n",
        "\n",
        "roi_all_companies.sort_values(ascending=False).head(10)"
      ],
      "metadata": {
        "id": "QRgQV65rgo6Q"
      },
      "execution_count": null,
      "outputs": []
    },
    {
      "cell_type": "markdown",
      "source": [
        "**Creating a Mutual Fund Plan Based on High ROI and Low Risk:**\n",
        "\n",
        "To create a strategy for selecting companies with high ROI and low risk, we can use a combination of ROI and volatility (standard deviation) metrics. The goal is to find companies that offer a high return on investment (ROI) but with low volatility to minimize risk.\n",
        "\n",
        "Here are the steps we can follow for creating a mutual fund plan:\n",
        "\n",
        "Define ROI and Volatility Thresholds: We will set thresholds for ROI and volatility to select companies that provide good returns with lower risks.\n",
        "\n",
        "Rank Companies by ROI and Volatility: Rank all companies based on their ROI and volatility scores.\n",
        "\n",
        "Assign Investment Ratios: Allocate more investment to companies with higher ROI and lower volatility.\n",
        "\n",
        "Let’s start by defining thresholds and selecting companies that meet the criteria of high ROI and low volatility:"
      ],
      "metadata": {
        "id": "0FBFQLBchI82"
      }
    },
    {
      "cell_type": "code",
      "source": [
        "roi_threshold = roi_all_companies.median()\n",
        "volatility_threshold = volatility_all_companies.median()\n",
        "\n",
        "selected_companies = roi_all_companies[(roi_all_companies > roi_threshold) & (volatility_all_companies < volatility_threshold)]\n",
        "\n",
        "selected_companies.sort_values(ascending=False)"
      ],
      "metadata": {
        "id": "g0P6vBgcg6lj"
      },
      "execution_count": null,
      "outputs": []
    },
    {
      "cell_type": "markdown",
      "source": [
        "To balance the investment between these companies, we can use an inverse volatility ratio for allocation. Companies with lower volatility will get a higher weight. Let’s calculate the weight for each company:"
      ],
      "metadata": {
        "id": "6CvLpfyVhgWB"
      }
    },
    {
      "cell_type": "code",
      "source": [
        "selected_volatility = volatility_all_companies[selected_companies.index]\n",
        "inverse_volatility = 1 / selected_volatility\n",
        "\n",
        "investment_ratios = inverse_volatility / inverse_volatility.sum()\n",
        "\n",
        "investment_ratios.sort_values(ascending=False)"
      ],
      "metadata": {
        "id": "10rbpvYOhVWL"
      },
      "execution_count": null,
      "outputs": []
    },
    {
      "cell_type": "markdown",
      "source": [
        "**Now Analyzing Our Mutual Fund Plan:**\n",
        "\n",
        "We have created a mutual fund plan for long-term investments. Now, let’s analyze and compare our mutual fund plan by comparing it with the high-performing companies in the stock market. Let’s start by comparing the risks in our mutual fund with the risk in the high growth companies:"
      ],
      "metadata": {
        "id": "XI5ydOQQhuWj"
      }
    },
    {
      "cell_type": "code",
      "source": [
        "top_growth_companies = average_growth_all_companies.sort_values(ascending=False).head(10)\n",
        "risk_growth_rate_companies = volatility_all_companies[top_growth_companies.index]\n",
        "risk_mutual_fund_companies = volatility_all_companies[selected_companies.index]\n",
        "\n",
        "fig = go.Figure()\n",
        "\n",
        "fig.add_trace(go.Bar(\n",
        "    y=risk_mutual_fund_companies.index,\n",
        "    x=risk_mutual_fund_companies,\n",
        "    orientation='h',  # Horizontal bar\n",
        "    name='Mutual Fund Companies',\n",
        "    marker=dict(color='blue')\n",
        "))\n",
        "\n",
        "fig.add_trace(go.Bar(\n",
        "    y=risk_growth_rate_companies.index,\n",
        "    x=risk_growth_rate_companies,\n",
        "    orientation='h',\n",
        "    name='Growth Rate Companies',\n",
        "    marker=dict(color='green'),\n",
        "    opacity=0.7\n",
        "))\n",
        "\n",
        "fig.update_layout(\n",
        "    title='Risk Comparison: Mutual Fund vs Growth Rate Companies',\n",
        "    xaxis_title='Volatility (Standard Deviation)',\n",
        "    yaxis_title='Companies',\n",
        "    barmode='overlay',\n",
        "    legend=dict(title='Company Type'),\n",
        "    template='plotly_white'\n",
        ")\n",
        "\n",
        "fig.show()"
      ],
      "metadata": {
        "id": "ef3CDDK1hkJq"
      },
      "execution_count": null,
      "outputs": []
    },
    {
      "cell_type": "code",
      "source": [
        "# let’s compare the ROI of both the groups as well:\n",
        "expected_roi_mutual_fund = roi_all_companies[selected_companies.index]\n",
        "\n",
        "expected_roi_growth_companies = roi_all_companies[top_growth_companies.index]\n",
        "\n",
        "fig = go.Figure()\n",
        "\n",
        "fig.add_trace(go.Bar(\n",
        "    y=expected_roi_mutual_fund.index,\n",
        "    x=expected_roi_mutual_fund,\n",
        "    orientation='h',\n",
        "    name='Mutual Fund Companies',\n",
        "    marker=dict(color='blue')\n",
        "))\n",
        "\n",
        "fig.add_trace(go.Bar(\n",
        "    y=expected_roi_growth_companies.index,\n",
        "    x=expected_roi_growth_companies,\n",
        "    orientation='h',\n",
        "    name='Growth Rate Companies',\n",
        "    marker=dict(color='green'),\n",
        "    opacity=0.7\n",
        "))\n",
        "\n",
        "fig.update_layout(\n",
        "    title='Expected ROI Comparison: Mutual Fund vs Growth Rate Companies',\n",
        "    xaxis_title='Expected ROI (%)',\n",
        "    yaxis_title='Companies',\n",
        "    barmode='overlay',\n",
        "    legend=dict(title='Company Type'),\n",
        "    template='plotly_white'\n",
        ")\n",
        "\n",
        "fig.show()"
      ],
      "metadata": {
        "id": "K-Tmd8LTh4-J"
      },
      "execution_count": null,
      "outputs": []
    },
    {
      "cell_type": "markdown",
      "source": [
        "**Now Calculating Expected Returns:**\n",
        "\n",
        "Now, let’s calculate the expected returns a person will get from our mutual fund if he/she invests ₹5000 every month.\n",
        "\n",
        "To calculate the expected value a person will accumulate over 1 year, 3 years, 5 years, and 10 years through the mutual fund plan, we can follow these steps:\n",
        "\n",
        "Assume the person is investing 5000 rupees every month.\n",
        "Use the expected ROI from the mutual fund companies to simulate the growth over time.\n",
        "Compute the compounded value of the investments for each period (1y, 3y, 5y, and 10y).\n",
        "Visualize the accumulated value over these periods."
      ],
      "metadata": {
        "id": "VxUCHRKoiQYX"
      }
    },
    {
      "cell_type": "code",
      "source": [
        "import numpy as np\n",
        "\n",
        "monthly_investment = 5000  # Monthly investment in INR\n",
        "years = [1, 3, 5, 10]  # Investment periods (in years)\n",
        "n = 12  # Number of times interest is compounded per year (monthly)\n",
        "\n",
        "avg_roi = expected_roi_mutual_fund.mean() / 100  # Convert to decimal\n",
        "\n",
        "def future_value(P, r, n, t):\n",
        "    return P * (((1 + r/n)**(n*t) - 1) / (r/n)) * (1 + r/n)\n",
        "\n",
        "future_values = [future_value(monthly_investment, avg_roi, n, t) for t in years]\n",
        "\n",
        "fig = go.Figure()\n",
        "\n",
        "fig.add_trace(go.Scatter(\n",
        "    x=[str(year) + \" year\" for year in years],\n",
        "    y=future_values,\n",
        "    mode='lines+markers',\n",
        "    line=dict(color='blue'),\n",
        "    marker=dict(size=8),\n",
        "    name='Future Value'\n",
        "))\n",
        "\n",
        "fig.update_layout(\n",
        "    title=\"Expected Value of Investments of ₹ 5000 Per Month (Mutual Funds)\",\n",
        "    xaxis_title=\"Investment Period\",\n",
        "    yaxis_title=\"Future Value (INR)\",\n",
        "    xaxis=dict(showgrid=True, gridcolor='lightgrey'),\n",
        "    yaxis=dict(showgrid=True, gridcolor='lightgrey'),\n",
        "    template=\"plotly_white\",\n",
        "    hovermode='x'\n",
        ")\n",
        "\n",
        "fig.show()"
      ],
      "metadata": {
        "id": "I8WFLSkdiGaI"
      },
      "execution_count": null,
      "outputs": []
    },
    {
      "cell_type": "markdown",
      "source": [
        "After 1 year, the accumulated value is around ₹62,000, and by 5 years, it grows to over ₹300,000. The long-term benefit is evident, with the investment growing to nearly ₹860,000 over 10 years, which emphasises the value of consistent investing and compounding over time for long-term investors."
      ],
      "metadata": {
        "id": "avAFh4jHimyd"
      }
    }
  ]
}